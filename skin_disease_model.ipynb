{
  "nbformat": 4,
  "nbformat_minor": 0,
  "metadata": {
    "colab": {
      "name": "screen disease_model.ipynb",
      "provenance": [],
      "collapsed_sections": [],
      "machine_shape": "hm"
    },
    "kernelspec": {
      "name": "python3",
      "display_name": "Python 3"
    },
    "language_info": {
      "name": "python"
    },
    "accelerator": "GPU"
  },
  "cells": [
    {
      "cell_type": "markdown",
      "source": [
        "# Screen disease model feature is screen spalist\n",
        "\n",
        "This model predict screen disease which disease have you body \n",
        "\n",
        "Data is provided by : https://www.kaggle.com/datasets/shubhamgoel27/dermnet\n",
        "1. Check to Use GPU \n",
        "2. Download data image and load preprocess image \n",
        "3. Check to see how many image have each directory\n",
        "4. Data augmentation create inside our model\n",
        "5. Use transfer learning create the model feature extraction\n",
        "6. Evaluate model\n",
        "7. Create transfer learning fine-tuning model\n",
        "8. Evaluate model \n",
        "9. **experiment experiment experiment**\n"
      ],
      "metadata": {
        "id": "E2XmZw97rC-F"
      }
    },
    {
      "cell_type": "markdown",
      "source": [
        "# Feature Extraction Model Frist"
      ],
      "metadata": {
        "id": "lHNfHOW0fhEx"
      }
    },
    {
      "cell_type": "markdown",
      "source": [
        "## 1. Check To Use GPU"
      ],
      "metadata": {
        "id": "kgz_a_iURyIr"
      }
    },
    {
      "cell_type": "code",
      "source": [
        "!nvidia-smi -L"
      ],
      "metadata": {
        "colab": {
          "base_uri": "https://localhost:8080/"
        },
        "id": "DZSvbId1NYXT",
        "outputId": "2357f1d7-2d3e-4264-956f-283858867e81"
      },
      "execution_count": 2,
      "outputs": [
        {
          "output_type": "stream",
          "name": "stdout",
          "text": [
            "GPU 0: Tesla T4 (UUID: GPU-d8ce403b-6ef2-71ca-893e-70ab044a9a07)\n"
          ]
        }
      ]
    },
    {
      "cell_type": "markdown",
      "source": [
        "## 2. Download data image and load preprocess "
      ],
      "metadata": {
        "id": "ygqh7qhC0z4Q"
      }
    },
    {
      "cell_type": "code",
      "source": [
        "# Frist download our helper function\n",
        "!wget https://raw.githubusercontent.com/iamzen24/course_project/main/halper_function.py"
      ],
      "metadata": {
        "colab": {
          "base_uri": "https://localhost:8080/"
        },
        "id": "5BOQ3qdWvZbW",
        "outputId": "78843af8-81d9-48fe-b7bd-f0b512af6432"
      },
      "execution_count": 3,
      "outputs": [
        {
          "output_type": "stream",
          "name": "stdout",
          "text": [
            "--2022-05-20 13:45:16--  https://raw.githubusercontent.com/iamzen24/course_project/main/halper_function.py\n",
            "Resolving raw.githubusercontent.com (raw.githubusercontent.com)... 185.199.108.133, 185.199.109.133, 185.199.110.133, ...\n",
            "Connecting to raw.githubusercontent.com (raw.githubusercontent.com)|185.199.108.133|:443... connected.\n",
            "HTTP request sent, awaiting response... 200 OK\n",
            "Length: 10235 (10.0K) [text/plain]\n",
            "Saving to: ‘halper_function.py’\n",
            "\n",
            "halper_function.py  100%[===================>]  10.00K  --.-KB/s    in 0s      \n",
            "\n",
            "2022-05-20 13:45:17 (109 MB/s) - ‘halper_function.py’ saved [10235/10235]\n",
            "\n"
          ]
        }
      ]
    },
    {
      "cell_type": "code",
      "source": [
        "# import series of helper function\n",
        "from halper_function import load_and_prep_image, pred_and_plot,compare_historys,create_tensorboard_callback,plot_loss_curves , unzip_data,walk_through_dir"
      ],
      "metadata": {
        "id": "aS3oMGL-vwGi"
      },
      "execution_count": 4,
      "outputs": []
    },
    {
      "cell_type": "code",
      "source": [
        "# Download data and prerpcess image \n",
        "# this time already download and store our google colab only for uzip data set\n",
        "unzip_data(\"/content/drive/MyDrive/screen_disease.zip\")"
      ],
      "metadata": {
        "id": "v_gOe5XVu-Sn"
      },
      "execution_count": 5,
      "outputs": []
    },
    {
      "cell_type": "code",
      "source": [
        "# import tensorflow \n",
        "import tensorflow as tf"
      ],
      "metadata": {
        "id": "AD35qQgMxKj4"
      },
      "execution_count": 6,
      "outputs": []
    },
    {
      "cell_type": "code",
      "source": [
        "# preprocess our data load train and test set\n",
        "train_dir = \"train/\"\n",
        "test_dir = \"test/\"\n",
        "IMAGE_SIZE = (224,224)\n",
        "BATCH_SIZE = 32\n",
        "train_data = tf.keras.preprocessing.image_dataset_from_directory(directory=train_dir,\n",
        "                                                                 label_mode=\"categorical\",\n",
        "                                                                 image_size=IMAGE_SIZE,\n",
        "                                                                 batch_size=BATCH_SIZE)\n",
        "test_data = tf.keras.preprocessing.image_dataset_from_directory(directory=test_dir,\n",
        "                                                                label_mode=\"categorical\",\n",
        "                                                                image_size=IMAGE_SIZE,\n",
        "                                                                batch_size=BATCH_SIZE,\n",
        "                                                                shuffle=False)"
      ],
      "metadata": {
        "colab": {
          "base_uri": "https://localhost:8080/"
        },
        "id": "JTtY_zr4w6XF",
        "outputId": "2c3a26d9-83f1-4e59-c33d-47870f0c43bb"
      },
      "execution_count": 7,
      "outputs": [
        {
          "output_type": "stream",
          "name": "stdout",
          "text": [
            "Found 15557 files belonging to 23 classes.\n",
            "Found 4002 files belonging to 23 classes.\n"
          ]
        }
      ]
    },
    {
      "cell_type": "markdown",
      "source": [
        "## 3. Check to see how many image have each directory."
      ],
      "metadata": {
        "id": "wLb1Wsdt1ET1"
      }
    },
    {
      "cell_type": "code",
      "source": [
        "class_names = test_data.class_names\n",
        "class_names"
      ],
      "metadata": {
        "colab": {
          "base_uri": "https://localhost:8080/"
        },
        "id": "wcIHXDCC0OfT",
        "outputId": "8b085064-7e2a-40f1-fdaf-4ad4b51ba5a9"
      },
      "execution_count": 29,
      "outputs": [
        {
          "output_type": "execute_result",
          "data": {
            "text/plain": [
              "['Acne and Rosacea Photos',\n",
              " 'Actinic Keratosis Basal Cell Carcinoma and other Malignant Lesions',\n",
              " 'Atopic Dermatitis Photos',\n",
              " 'Bullous Disease Photos',\n",
              " 'Cellulitis Impetigo and other Bacterial Infections',\n",
              " 'Eczema Photos',\n",
              " 'Exanthems and Drug Eruptions',\n",
              " 'Hair Loss Photos Alopecia and other Hair Diseases',\n",
              " 'Herpes HPV and other STDs Photos',\n",
              " 'Light Diseases and Disorders of Pigmentation',\n",
              " 'Lupus and other Connective Tissue diseases',\n",
              " 'Melanoma Skin Cancer Nevi and Moles',\n",
              " 'Nail Fungus and other Nail Disease',\n",
              " 'Poison Ivy Photos and other Contact Dermatitis',\n",
              " 'Psoriasis pictures Lichen Planus and related diseases',\n",
              " 'Scabies Lyme Disease and other Infestations and Bites',\n",
              " 'Seborrheic Keratoses and other Benign Tumors',\n",
              " 'Systemic Disease',\n",
              " 'Tinea Ringworm Candidiasis and other Fungal Infections',\n",
              " 'Urticaria Hives',\n",
              " 'Vascular Tumors',\n",
              " 'Vasculitis Photos',\n",
              " 'Warts Molluscum and other Viral Infections']"
            ]
          },
          "metadata": {},
          "execution_count": 29
        }
      ]
    },
    {
      "cell_type": "code",
      "source": [
        "walk_through_dir(dir_path=\"train\")"
      ],
      "metadata": {
        "colab": {
          "base_uri": "https://localhost:8080/"
        },
        "id": "5FKljmV3we7k",
        "outputId": "745c6f26-bd52-42d9-8585-568117028854"
      },
      "execution_count": 8,
      "outputs": [
        {
          "output_type": "stream",
          "name": "stdout",
          "text": [
            "There are 23 directories and 0 images in 'train'.\n",
            "There are 0 directories and 1040 images in 'train/Nail Fungus and other Nail Disease'.\n",
            "There are 0 directories and 448 images in 'train/Bullous Disease Photos'.\n",
            "There are 0 directories and 1300 images in 'train/Tinea Ringworm Candidiasis and other Fungal Infections'.\n",
            "There are 0 directories and 606 images in 'train/Systemic Disease'.\n",
            "There are 0 directories and 420 images in 'train/Lupus and other Connective Tissue diseases'.\n",
            "There are 0 directories and 405 images in 'train/Herpes HPV and other STDs Photos'.\n",
            "There are 0 directories and 1149 images in 'train/Actinic Keratosis Basal Cell Carcinoma and other Malignant Lesions'.\n",
            "There are 0 directories and 489 images in 'train/Atopic Dermatitis Photos'.\n",
            "There are 0 directories and 840 images in 'train/Acne and Rosacea Photos'.\n",
            "There are 0 directories and 463 images in 'train/Melanoma Skin Cancer Nevi and Moles'.\n",
            "There are 0 directories and 260 images in 'train/Poison Ivy Photos and other Contact Dermatitis'.\n",
            "There are 0 directories and 1371 images in 'train/Seborrheic Keratoses and other Benign Tumors'.\n",
            "There are 0 directories and 482 images in 'train/Vascular Tumors'.\n",
            "There are 0 directories and 212 images in 'train/Urticaria Hives'.\n",
            "There are 0 directories and 1086 images in 'train/Warts Molluscum and other Viral Infections'.\n",
            "There are 0 directories and 568 images in 'train/Light Diseases and Disorders of Pigmentation'.\n",
            "There are 0 directories and 288 images in 'train/Cellulitis Impetigo and other Bacterial Infections'.\n",
            "There are 0 directories and 1405 images in 'train/Psoriasis pictures Lichen Planus and related diseases'.\n",
            "There are 0 directories and 239 images in 'train/Hair Loss Photos Alopecia and other Hair Diseases'.\n",
            "There are 0 directories and 1235 images in 'train/Eczema Photos'.\n",
            "There are 0 directories and 416 images in 'train/Vasculitis Photos'.\n",
            "There are 0 directories and 431 images in 'train/Scabies Lyme Disease and other Infestations and Bites'.\n",
            "There are 0 directories and 404 images in 'train/Exanthems and Drug Eruptions'.\n"
          ]
        }
      ]
    },
    {
      "cell_type": "code",
      "source": [
        "walk_through_dir(\"train\")"
      ],
      "metadata": {
        "colab": {
          "base_uri": "https://localhost:8080/"
        },
        "id": "gl3FY1kYw22x",
        "outputId": "a9d0748d-946e-4ed5-bfc7-968d1ef5862b"
      },
      "execution_count": 9,
      "outputs": [
        {
          "output_type": "stream",
          "name": "stdout",
          "text": [
            "There are 23 directories and 0 images in 'train'.\n",
            "There are 0 directories and 1040 images in 'train/Nail Fungus and other Nail Disease'.\n",
            "There are 0 directories and 448 images in 'train/Bullous Disease Photos'.\n",
            "There are 0 directories and 1300 images in 'train/Tinea Ringworm Candidiasis and other Fungal Infections'.\n",
            "There are 0 directories and 606 images in 'train/Systemic Disease'.\n",
            "There are 0 directories and 420 images in 'train/Lupus and other Connective Tissue diseases'.\n",
            "There are 0 directories and 405 images in 'train/Herpes HPV and other STDs Photos'.\n",
            "There are 0 directories and 1149 images in 'train/Actinic Keratosis Basal Cell Carcinoma and other Malignant Lesions'.\n",
            "There are 0 directories and 489 images in 'train/Atopic Dermatitis Photos'.\n",
            "There are 0 directories and 840 images in 'train/Acne and Rosacea Photos'.\n",
            "There are 0 directories and 463 images in 'train/Melanoma Skin Cancer Nevi and Moles'.\n",
            "There are 0 directories and 260 images in 'train/Poison Ivy Photos and other Contact Dermatitis'.\n",
            "There are 0 directories and 1371 images in 'train/Seborrheic Keratoses and other Benign Tumors'.\n",
            "There are 0 directories and 482 images in 'train/Vascular Tumors'.\n",
            "There are 0 directories and 212 images in 'train/Urticaria Hives'.\n",
            "There are 0 directories and 1086 images in 'train/Warts Molluscum and other Viral Infections'.\n",
            "There are 0 directories and 568 images in 'train/Light Diseases and Disorders of Pigmentation'.\n",
            "There are 0 directories and 288 images in 'train/Cellulitis Impetigo and other Bacterial Infections'.\n",
            "There are 0 directories and 1405 images in 'train/Psoriasis pictures Lichen Planus and related diseases'.\n",
            "There are 0 directories and 239 images in 'train/Hair Loss Photos Alopecia and other Hair Diseases'.\n",
            "There are 0 directories and 1235 images in 'train/Eczema Photos'.\n",
            "There are 0 directories and 416 images in 'train/Vasculitis Photos'.\n",
            "There are 0 directories and 431 images in 'train/Scabies Lyme Disease and other Infestations and Bites'.\n",
            "There are 0 directories and 404 images in 'train/Exanthems and Drug Eruptions'.\n"
          ]
        }
      ]
    },
    {
      "cell_type": "markdown",
      "source": [
        "## 4. Create Data Augmentation"
      ],
      "metadata": {
        "id": "rtFO3z7O0v5u"
      }
    },
    {
      "cell_type": "code",
      "source": [
        "# create data augmentation inside our mode\n",
        "from tensorflow import keras\n",
        "from tensorflow.keras import layers\n",
        "\n",
        "data_augmentation = tf.keras.Sequential([\n",
        "   layers.RandomFlip(mode=\"horizontal\"),\n",
        "   layers.RandomRotation(0.2),\n",
        "   layers.RandomZoom(0.2),\n",
        "   layers.RandomHeight(0.2),\n",
        "   layers.RandomWidth(0.2),\n",
        "#    layers.Rescaling(scale=1/255.) This layer imported on tensorflow transfer leanring model like ResNetV50 (but this time not importent on efficieant net B0 becuse already have)\n",
        "])"
      ],
      "metadata": {
        "id": "rGDNwXogzNta"
      },
      "execution_count": 10,
      "outputs": []
    },
    {
      "cell_type": "markdown",
      "source": [
        "## 5. Use transfer-learning create feature extraction model\n"
      ],
      "metadata": {
        "id": "iWYqvbwuztic"
      }
    },
    {
      "cell_type": "code",
      "source": [
        "# create base model\n",
        "base_model = tf.keras.applications.EfficientNetB0(include_top=False)\n",
        "base_model.trainable = False\n",
        "\n",
        "# create input layers\n",
        "inputs = layers.Input(shape=(224,224,3),name=\"input_layer\")\n",
        "# data augmentation\n",
        "# x = data_augmentation(inputs,training=True) # Trining to True than data augmentation work this new add in tensorflow\n",
        "# pass thourg the base model\n",
        "x = base_model(inputs,training=False)\n",
        "# pooled our model than out put to vector\n",
        "x = layers.GlobalAveragePooling2D(name=\"global_pooled_average_2D\")(x)\n",
        "# create output layer\n",
        "output = layers.Dense(len(test_data.class_names),activation=\"softmax\",name=\"output_layer\")(x)\n",
        "\n",
        "# create the feature extraction model\n",
        "feature_extraction_model = tf.keras.Model(inputs,output)\n",
        "# compile the model\n",
        "feature_extraction_model.compile(loss=tf.keras.losses.CategoricalCrossentropy(),\n",
        "                                 optimizer=tf.keras.optimizers.Adam(),\n",
        "                                 metrics=[\"accuracy\"])\n"
      ],
      "metadata": {
        "colab": {
          "base_uri": "https://localhost:8080/"
        },
        "id": "v-gMNBGw1UHc",
        "outputId": "e53d18cd-457a-484b-f54c-07c4feec943b"
      },
      "execution_count": 11,
      "outputs": [
        {
          "output_type": "stream",
          "name": "stdout",
          "text": [
            "Downloading data from https://storage.googleapis.com/keras-applications/efficientnetb0_notop.h5\n",
            "16711680/16705208 [==============================] - 0s 0us/step\n",
            "16719872/16705208 [==============================] - 0s 0us/step\n"
          ]
        }
      ]
    },
    {
      "cell_type": "code",
      "source": [
        "# create two callback TensorBoardCallback and model_checkpoint\n",
        "from halper_function import create_tensorboard_callback \n",
        "\n",
        "check_point_path = \"Model_Check_point_load/cp.ckpt\"\n",
        "model_check_point_callback = tf.keras.callbacks.ModelCheckpoint(filepath=check_point_path,\n",
        "                                                                monitor='val_accuracy',\n",
        "                                                                save_best_only=True,\n",
        "                                                                save_weights_only=True,\n",
        "                                                                save_freq='epoch',\n",
        "                                                                verbose=1)"
      ],
      "metadata": {
        "id": "qCT5u3vK3QrN"
      },
      "execution_count": 12,
      "outputs": []
    },
    {
      "cell_type": "code",
      "source": [
        "# Fit the feature extraction model\n",
        "feature_extraction_history = feature_extraction_model.fit(train_data,\n",
        "                                                          epochs=5,\n",
        "                                                          validation_data=test_data,\n",
        "                                                          validation_steps=int(0.15 * len(test_data)),\n",
        "                                                          callbacks=[create_tensorboard_callback(dir_name=\"log_dir\",experiment_name=\"feature_extraction_model_tensorboard\"),model_check_point_callback])"
      ],
      "metadata": {
        "colab": {
          "base_uri": "https://localhost:8080/"
        },
        "id": "88S7LJcY28MW",
        "outputId": "c681955d-3b63-4986-d169-a63ddaa55742"
      },
      "execution_count": 13,
      "outputs": [
        {
          "output_type": "stream",
          "name": "stdout",
          "text": [
            "Saving TensorBoard log files to: log_dir/feature_extraction_model_tensorboard/20220520-134558\n",
            "Epoch 1/5\n",
            "487/487 [==============================] - ETA: 0s - loss: 2.3773 - accuracy: 0.3005\n",
            "Epoch 1: val_accuracy improved from -inf to 0.51910, saving model to Model_Check_point_load/cp.ckpt\n",
            "487/487 [==============================] - 50s 72ms/step - loss: 2.3773 - accuracy: 0.3005 - val_loss: 1.8706 - val_accuracy: 0.5191\n",
            "Epoch 2/5\n",
            "486/487 [============================>.] - ETA: 0s - loss: 2.0626 - accuracy: 0.3858\n",
            "Epoch 2: val_accuracy improved from 0.51910 to 0.55903, saving model to Model_Check_point_load/cp.ckpt\n",
            "487/487 [==============================] - 34s 69ms/step - loss: 2.0629 - accuracy: 0.3857 - val_loss: 1.7025 - val_accuracy: 0.5590\n",
            "Epoch 3/5\n",
            "486/487 [============================>.] - ETA: 0s - loss: 1.9255 - accuracy: 0.4236\n",
            "Epoch 3: val_accuracy did not improve from 0.55903\n",
            "487/487 [==============================] - 34s 70ms/step - loss: 1.9252 - accuracy: 0.4237 - val_loss: 1.6946 - val_accuracy: 0.5486\n",
            "Epoch 4/5\n",
            "486/487 [============================>.] - ETA: 0s - loss: 1.8333 - accuracy: 0.4520\n",
            "Epoch 4: val_accuracy improved from 0.55903 to 0.59375, saving model to Model_Check_point_load/cp.ckpt\n",
            "487/487 [==============================] - 35s 71ms/step - loss: 1.8331 - accuracy: 0.4521 - val_loss: 1.5597 - val_accuracy: 0.5938\n",
            "Epoch 5/5\n",
            "486/487 [============================>.] - ETA: 0s - loss: 1.7587 - accuracy: 0.4727\n",
            "Epoch 5: val_accuracy did not improve from 0.59375\n",
            "487/487 [==============================] - 35s 71ms/step - loss: 1.7585 - accuracy: 0.4728 - val_loss: 1.5603 - val_accuracy: 0.5868\n"
          ]
        }
      ]
    },
    {
      "cell_type": "markdown",
      "source": [
        " ##  5. Evaluate the model"
      ],
      "metadata": {
        "id": "Gdr1BMwM4IXe"
      }
    },
    {
      "cell_type": "code",
      "source": [
        "feature_extraction_result = feature_extraction_model.evaluate(test_data)\n",
        "feature_extraction_result"
      ],
      "metadata": {
        "id": "2nmH9YRENUVR",
        "colab": {
          "base_uri": "https://localhost:8080/"
        },
        "outputId": "e1476bbf-2932-4d18-ac42-fc055784e97c"
      },
      "execution_count": 14,
      "outputs": [
        {
          "output_type": "stream",
          "name": "stdout",
          "text": [
            "126/126 [==============================] - 9s 71ms/step - loss: 2.0135 - accuracy: 0.3986\n"
          ]
        },
        {
          "output_type": "execute_result",
          "data": {
            "text/plain": [
              "[2.013540744781494, 0.39855071902275085]"
            ]
          },
          "metadata": {},
          "execution_count": 14
        }
      ]
    },
    {
      "cell_type": "markdown",
      "source": [
        "# Fine-Tuning model only train 30 layer in pretrained model\n"
      ],
      "metadata": {
        "id": "BDqIcTr9SEdR"
      }
    },
    {
      "cell_type": "code",
      "source": [
        "# load feature extraction model\n",
        "feature_extraction_model.load_weights(check_point_path)"
      ],
      "metadata": {
        "colab": {
          "base_uri": "https://localhost:8080/"
        },
        "id": "dTPWScpQfs16",
        "outputId": "f23e87fe-506e-4b2d-fc06-61973b2e60f1"
      },
      "execution_count": 15,
      "outputs": [
        {
          "output_type": "execute_result",
          "data": {
            "text/plain": [
              "<tensorflow.python.training.tracking.util.CheckpointLoadStatus at 0x7f7b948c3cd0>"
            ]
          },
          "metadata": {},
          "execution_count": 15
        }
      ]
    },
    {
      "cell_type": "code",
      "source": [
        "feature_extraction_model.evaluate(test_data)"
      ],
      "metadata": {
        "colab": {
          "base_uri": "https://localhost:8080/"
        },
        "id": "tzTGJam4ikoE",
        "outputId": "995dcfe4-22e6-43b5-fd79-61d28b23430d"
      },
      "execution_count": 16,
      "outputs": [
        {
          "output_type": "stream",
          "name": "stdout",
          "text": [
            "126/126 [==============================] - 9s 68ms/step - loss: 2.0324 - accuracy: 0.4033\n"
          ]
        },
        {
          "output_type": "execute_result",
          "data": {
            "text/plain": [
              "[2.0324180126190186, 0.40329834818840027]"
            ]
          },
          "metadata": {},
          "execution_count": 16
        }
      ]
    },
    {
      "cell_type": "code",
      "source": [
        "# let's 30 layer to trainable to true\n",
        "feature_extraction_model.layers[1].trainable = True\n",
        "for layer in feature_extraction_model.layers[1].layers[:-30]:\n",
        "    layer.trainable = False\n",
        "# recompil the model\n",
        "feature_extraction_model.compile(loss=tf.keras.losses.CategoricalCrossentropy(),\n",
        "                                 optimizer=tf.keras.optimizers.Adam(lr=0.0001),\n",
        "                                 metrics=[\"accuracy\"])\n"
      ],
      "metadata": {
        "colab": {
          "base_uri": "https://localhost:8080/"
        },
        "id": "MqnsbmRbin2W",
        "outputId": "cf61b618-9d5d-4e1f-f683-d9e6f0022a74"
      },
      "execution_count": 17,
      "outputs": [
        {
          "output_type": "stream",
          "name": "stderr",
          "text": [
            "/usr/local/lib/python3.7/dist-packages/keras/optimizer_v2/adam.py:105: UserWarning: The `lr` argument is deprecated, use `learning_rate` instead.\n",
            "  super(Adam, self).__init__(name, **kwargs)\n"
          ]
        }
      ]
    },
    {
      "cell_type": "code",
      "source": [
        "# cheack to how many layer are trainable\n",
        "for layer in feature_extraction_model.layers:\n",
        "    print(layer.name,layer.trainable)"
      ],
      "metadata": {
        "colab": {
          "base_uri": "https://localhost:8080/"
        },
        "id": "mZuScCjNi5jl",
        "outputId": "d8d9c1f6-3754-422a-c929-9a351976010b"
      },
      "execution_count": 18,
      "outputs": [
        {
          "output_type": "stream",
          "name": "stdout",
          "text": [
            "input_layer True\n",
            "efficientnetb0 True\n",
            "global_pooled_average_2D True\n",
            "output_layer True\n"
          ]
        }
      ]
    },
    {
      "cell_type": "code",
      "source": [
        "# check to see how many layer are trainable in base model\n",
        "print(len(feature_extraction_model.layers[1].trainable_variables))"
      ],
      "metadata": {
        "colab": {
          "base_uri": "https://localhost:8080/"
        },
        "id": "efiKSuP0jiPH",
        "outputId": "1abb4362-5db0-4f90-bba4-441fb058b0f8"
      },
      "execution_count": 19,
      "outputs": [
        {
          "output_type": "stream",
          "name": "stdout",
          "text": [
            "28\n"
          ]
        }
      ]
    },
    {
      "cell_type": "code",
      "source": [
        "# now fit the model\n",
        "fine_tuning_history = feature_extraction_model.fit(train_data,\n",
        "                                                   epochs=10,\n",
        "                                                   validation_data=test_data,\n",
        "                                                   validation_steps=len(test_data),\n",
        "                                                   initial_epoch=feature_extraction_history.epoch[-1],\n",
        "                                                   callbacks=[create_tensorboard_callback(dir_name=\"transfer_learning\",experiment_name=\"fine-Tuning-model_callback\")])"
      ],
      "metadata": {
        "colab": {
          "base_uri": "https://localhost:8080/"
        },
        "id": "3NWUniS5j0o0",
        "outputId": "6642adce-019d-4281-ecbf-0a2b4793a220"
      },
      "execution_count": 20,
      "outputs": [
        {
          "output_type": "stream",
          "name": "stdout",
          "text": [
            "Saving TensorBoard log files to: transfer_learning/fine-Tuning-model_callback/20220520-134925\n",
            "Epoch 5/10\n",
            "487/487 [==============================] - 55s 99ms/step - loss: 1.6670 - accuracy: 0.4920 - val_loss: 1.9104 - val_accuracy: 0.4345\n",
            "Epoch 6/10\n",
            "487/487 [==============================] - 47s 96ms/step - loss: 1.4040 - accuracy: 0.5736 - val_loss: 1.8691 - val_accuracy: 0.4545\n",
            "Epoch 7/10\n",
            "487/487 [==============================] - 47s 96ms/step - loss: 1.1657 - accuracy: 0.6481 - val_loss: 1.8462 - val_accuracy: 0.4770\n",
            "Epoch 8/10\n",
            "487/487 [==============================] - 47s 96ms/step - loss: 0.9416 - accuracy: 0.7216 - val_loss: 1.8684 - val_accuracy: 0.4925\n",
            "Epoch 9/10\n",
            "487/487 [==============================] - 47s 96ms/step - loss: 0.7432 - accuracy: 0.7814 - val_loss: 1.9167 - val_accuracy: 0.5015\n",
            "Epoch 10/10\n",
            "487/487 [==============================] - 47s 96ms/step - loss: 0.5690 - accuracy: 0.8425 - val_loss: 1.9989 - val_accuracy: 0.5077\n"
          ]
        }
      ]
    },
    {
      "cell_type": "markdown",
      "source": [
        "### Evaluate the model \n"
      ],
      "metadata": {
        "id": "_NXOtdtPmFi1"
      }
    },
    {
      "cell_type": "code",
      "source": [
        "fine_tuning_model_result = feature_extraction_model.evaluate(test_data)"
      ],
      "metadata": {
        "colab": {
          "base_uri": "https://localhost:8080/"
        },
        "id": "BbHWewntmT62",
        "outputId": "fd9eab5e-5512-4162-e143-561ccb642270"
      },
      "execution_count": 21,
      "outputs": [
        {
          "output_type": "stream",
          "name": "stdout",
          "text": [
            "126/126 [==============================] - 9s 68ms/step - loss: 1.9989 - accuracy: 0.5077\n"
          ]
        }
      ]
    },
    {
      "cell_type": "markdown",
      "source": [
        "# Fine-Tuning all layer are trainable "
      ],
      "metadata": {
        "id": "SH7JQGnkkbPu"
      }
    },
    {
      "cell_type": "code",
      "source": [
        "feature_extraction_model.layers[1].trainable = True\n",
        "# recompile the model\n",
        "feature_extraction_model.compile(loss=tf.keras.losses.CategoricalCrossentropy(),\n",
        "                                 optimizer=tf.keras.optimizers.Adam(lr=0.0001),\n",
        "                                 metrics=[\"accuracy\"])"
      ],
      "metadata": {
        "colab": {
          "base_uri": "https://localhost:8080/"
        },
        "id": "-2E_jR1IlKtL",
        "outputId": "175950de-2b12-4936-b6b6-fd9737441d37"
      },
      "execution_count": 22,
      "outputs": [
        {
          "output_type": "stream",
          "name": "stderr",
          "text": [
            "/usr/local/lib/python3.7/dist-packages/keras/optimizer_v2/adam.py:105: UserWarning: The `lr` argument is deprecated, use `learning_rate` instead.\n",
            "  super(Adam, self).__init__(name, **kwargs)\n"
          ]
        }
      ]
    },
    {
      "cell_type": "code",
      "source": [
        "# check how many layer are trainable in base model\n",
        "print(len(feature_extraction_model.layers[1].trainable_variables))"
      ],
      "metadata": {
        "colab": {
          "base_uri": "https://localhost:8080/"
        },
        "id": "JsobX7svm10P",
        "outputId": "987a4b47-033e-4fc0-9086-7b2d8e73e169"
      },
      "execution_count": 23,
      "outputs": [
        {
          "output_type": "stream",
          "name": "stdout",
          "text": [
            "211\n"
          ]
        }
      ]
    },
    {
      "cell_type": "code",
      "source": [
        "# now fit the model\n",
        "fine_tuning_all_layer_train_history = feature_extraction_model.fit(train_data,\n",
        "                                                                   epochs=15,\n",
        "                                                                   validation_data=test_data,\n",
        "                                                                   validation_steps=int(0.15 * len(test_data)),\n",
        "                                                                   initial_epoch=fine_tuning_history.epoch[-1],\n",
        "                                                                   callbacks=[create_tensorboard_callback(dir_name=\"transfer_learning\",experiment_name=\"fine_tuning_all_layer_trainable\")])"
      ],
      "metadata": {
        "colab": {
          "base_uri": "https://localhost:8080/"
        },
        "id": "OC6Us5TznCVh",
        "outputId": "ddd28e46-930c-4298-a033-26bdd0b5a9f4"
      },
      "execution_count": 24,
      "outputs": [
        {
          "output_type": "stream",
          "name": "stdout",
          "text": [
            "Saving TensorBoard log files to: transfer_learning/fine_tuning_all_layer_trainable/20220520-135424\n",
            "Epoch 10/15\n",
            "487/487 [==============================] - 176s 345ms/step - loss: 0.6262 - accuracy: 0.8078 - val_loss: 1.0595 - val_accuracy: 0.7344\n",
            "Epoch 11/15\n",
            "487/487 [==============================] - 169s 346ms/step - loss: 0.3954 - accuracy: 0.8848 - val_loss: 1.1330 - val_accuracy: 0.7413\n",
            "Epoch 12/15\n",
            "487/487 [==============================] - 167s 343ms/step - loss: 0.2880 - accuracy: 0.9193 - val_loss: 1.2701 - val_accuracy: 0.7309\n",
            "Epoch 13/15\n",
            "487/487 [==============================] - 166s 341ms/step - loss: 0.2187 - accuracy: 0.9382 - val_loss: 1.0551 - val_accuracy: 0.7691\n",
            "Epoch 14/15\n",
            "487/487 [==============================] - 168s 344ms/step - loss: 0.1769 - accuracy: 0.9497 - val_loss: 1.3226 - val_accuracy: 0.7292\n",
            "Epoch 15/15\n",
            "487/487 [==============================] - 167s 342ms/step - loss: 0.1609 - accuracy: 0.9524 - val_loss: 1.2184 - val_accuracy: 0.7622\n"
          ]
        }
      ]
    },
    {
      "cell_type": "code",
      "source": [
        " fine_tuning_all_layer_result = feature_extraction_model.evaluate(test_data)\n",
        " fine_tuning_all_layer_result"
      ],
      "metadata": {
        "id": "z8HT8-GPwJFB"
      },
      "execution_count": null,
      "outputs": []
    },
    {
      "cell_type": "code",
      "source": [
        "pred_and_plot(feature_extraction_model,filename=\"/content/drive/MyDrive/Image/tinia_3.jpg\",class_names=class_names)"
      ],
      "metadata": {
        "colab": {
          "base_uri": "https://localhost:8080/",
          "height": 264
        },
        "id": "-j543LIcz1E2",
        "outputId": "545e5957-dbfd-4a2a-a4ce-cb7d83abe8a7"
      },
      "execution_count": 33,
      "outputs": [
        {
          "output_type": "display_data",
          "data": {
            "text/plain": [
              "<Figure size 432x288 with 1 Axes>"
            ],
            "image/png": "[encoded data removed]"
          },
          "metadata": {
            "needs_background": "light"
          }
        }
      ]
    },
    {
      "cell_type": "markdown",
      "source": [
        "# Create new model fine tuning with data augmentation"
      ],
      "metadata": {
        "id": "BdxzppWtnwp5"
      }
    },
    {
      "cell_type": "code",
      "source": [
        "from tensorflow.keras import mixed_precision\n",
        "\n",
        "mixed_precision.set_global_policy('mixed_float16')"
      ],
      "metadata": {
        "id": "AL1z4ZlXvDLL"
      },
      "execution_count": 34,
      "outputs": []
    },
    {
      "cell_type": "code",
      "source": [
        "# create base model\n",
        "base_model_2 = tf.keras.applications.EfficientNetB7(include_top=False)\n",
        "base_model_2.trainable = False\n",
        "# create input layer \n",
        "inputs = tf.keras.layers.Input(shape=(224,224,3),name=\"input_layers\")\n",
        "# create data augmentation\n",
        "x = data_augmentation(inputs,training=True)\n",
        "# pass thorugh the base model\n",
        "x = base_model_2(x,training=False)\n",
        "# pooled our model output\n",
        "x = tf.keras.layers.GlobalAveragePooling2D(name=\"global_pooling_layer_2D\")(x)\n",
        "# output layer create\n",
        "x = tf.keras.layers.Dense(len(test_data.class_names))(x)\n",
        "outputs = tf.keras.layers.Activation(\"softmax\",dtype=tf.float32,name=\"outputs_layer\")(x)\n",
        "# pass the tensorflow model \n",
        "fine_tuning_model_agm = tf.keras.Model(inputs,outputs)\n",
        "# compile the model\n",
        "fine_tuning_model_agm.compile(loss=tf.keras.losses.CategoricalCrossentropy(),\n",
        "                             optimizer=tf.keras.optimizers.Adam(0.0001),\n",
        "                             metrics=[\"accuracy\"])"
      ],
      "metadata": {
        "id": "RHzk0Z03pCgC",
        "colab": {
          "base_uri": "https://localhost:8080/"
        },
        "outputId": "8d42eb2c-b01f-4f4b-b91e-8683063b254b"
      },
      "execution_count": 35,
      "outputs": [
        {
          "output_type": "stream",
          "name": "stdout",
          "text": [
            "Downloading data from https://storage.googleapis.com/keras-applications/efficientnetb7_notop.h5\n",
            "258080768/258076736 [==============================] - 3s 0us/step\n",
            "258088960/258076736 [==============================] - 3s 0us/step\n"
          ]
        }
      ]
    },
    {
      "cell_type": "code",
      "source": [
        "fine_tuning_model_agm.summary()"
      ],
      "metadata": {
        "colab": {
          "base_uri": "https://localhost:8080/"
        },
        "id": "HJvH3bWRtkFK",
        "outputId": "d975c234-2787-4967-d5cb-70d3747700dd"
      },
      "execution_count": 36,
      "outputs": [
        {
          "output_type": "stream",
          "name": "stdout",
          "text": [
            "Model: \"model_1\"\n",
            "_________________________________________________________________\n",
            " Layer (type)                Output Shape              Param #   \n",
            "=================================================================\n",
            " input_layers (InputLayer)   [(None, 224, 224, 3)]     0         \n",
            "                                                                 \n",
            " sequential (Sequential)     (None, None, None, 3)     0         \n",
            "                                                                 \n",
            " efficientnetb7 (Functional)  (None, None, None, 2560)  64097687 \n",
            "                                                                 \n",
            " global_pooling_layer_2D (Gl  (None, 2560)             0         \n",
            " obalAveragePooling2D)                                           \n",
            "                                                                 \n",
            " dense (Dense)               (None, 23)                58903     \n",
            "                                                                 \n",
            " outputs_layer (Activation)  (None, 23)                0         \n",
            "                                                                 \n",
            "=================================================================\n",
            "Total params: 64,156,590\n",
            "Trainable params: 58,903\n",
            "Non-trainable params: 64,097,687\n",
            "_________________________________________________________________\n"
          ]
        }
      ]
    },
    {
      "cell_type": "code",
      "source": [
        "# check to dtype policy\n",
        "for layer in fine_tuning_model_agm.layers:\n",
        "    print(layer.name,layer.trainable,layer.dtype,layer.dtype_policy)"
      ],
      "metadata": {
        "colab": {
          "base_uri": "https://localhost:8080/"
        },
        "id": "LoPHOJmAwQFD",
        "outputId": "5dba3fed-205f-48a3-a72d-ac7bb3799b3f"
      },
      "execution_count": 37,
      "outputs": [
        {
          "output_type": "stream",
          "name": "stdout",
          "text": [
            "input_layers True float32 <Policy \"float32\">\n",
            "sequential True float32 <Policy \"float32\">\n",
            "efficientnetb7 False float32 <Policy \"mixed_float16\">\n",
            "global_pooling_layer_2D True float32 <Policy \"mixed_float16\">\n",
            "dense True float32 <Policy \"mixed_float16\">\n",
            "outputs_layer True float32 <Policy \"float32\">\n"
          ]
        }
      ]
    },
    {
      "cell_type": "code",
      "source": [
        "# now fit the model\n",
        "fine_tuning_model_data_agm_history = fine_tuning_model_agm.fit(train_data,\n",
        "                                                               epochs=5,\n",
        "                                                               validation_data=test_data,\n",
        "                                                               validation_steps=int(0.15 * len(test_data)))"
      ],
      "metadata": {
        "colab": {
          "base_uri": "https://localhost:8080/"
        },
        "id": "NDA4jbP1tm0V",
        "outputId": "41155322-abc9-4b36-9381-adf66aceec7c"
      },
      "execution_count": null,
      "outputs": [
        {
          "output_type": "stream",
          "name": "stdout",
          "text": [
            "Epoch 1/5\n",
            "487/487 [==============================] - 187s 345ms/step - loss: 2.7706 - accuracy: 0.1888 - val_loss: 2.2635 - val_accuracy: 0.3889\n",
            "Epoch 2/5\n",
            "487/487 [==============================] - 148s 303ms/step - loss: 2.5284 - accuracy: 0.2619 - val_loss: 2.1835 - val_accuracy: 0.4167\n",
            "Epoch 3/5\n",
            "487/487 [==============================] - 141s 290ms/step - loss: 2.4375 - accuracy: 0.2817 - val_loss: 2.1002 - val_accuracy: 0.4427\n",
            "Epoch 4/5\n",
            "487/487 [==============================] - 137s 281ms/step - loss: 2.3813 - accuracy: 0.2983 - val_loss: 2.0684 - val_accuracy: 0.4462\n",
            "Epoch 5/5\n",
            "389/487 [======================>.......] - ETA: 26s - loss: 2.3451 - accuracy: 0.3080"
          ]
        }
      ]
    },
    {
      "cell_type": "code",
      "source": [
        "pred_and_plot(fine_tuning_model_agm,filename=\"drive/MyDrive/image/tinia_1.jpg\",class_names=class_names)"
      ],
      "metadata": {
        "id": "XHspojOx29ay"
      },
      "execution_count": null,
      "outputs": []
    },
    {
      "cell_type": "code",
      "source": [
        "pred_probs = fine_tuning_model_agm.predict(test_data)\n",
        "pred_probs[:10]"
      ],
      "metadata": {
        "id": "z3atEfQP30Sd"
      },
      "execution_count": null,
      "outputs": []
    },
    {
      "cell_type": "markdown",
      "source": [
        "## create fine tuning model with data augmentation with all layer are trainable\n"
      ],
      "metadata": {
        "id": "NYyJVBQ8uVWg"
      }
    },
    {
      "cell_type": "code",
      "source": [
        "fine_tuning_model_agm.trainable = True\n",
        "# recompile the model\n",
        "fine_tuning_model_agm.compile(loss=tf.keras.losses.CategoricalCrossentropy(),\n",
        "                              optimizer=tf.keras.optimizers.Adam(),\n",
        "                              metrics=[\"accuracy\"])"
      ],
      "metadata": {
        "id": "MhZzOYgW2hn9"
      },
      "execution_count": null,
      "outputs": []
    }
  ]
}